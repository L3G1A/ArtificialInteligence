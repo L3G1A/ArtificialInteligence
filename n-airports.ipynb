{
 "cells": [
  {
   "cell_type": "code",
   "execution_count": 727,
   "metadata": {
    "scrolled": false
   },
   "outputs": [
    {
     "data": {
      "text/plain": [
       "<module 'matplotlib.pyplot' from 'C:\\\\Users\\\\Sleepless\\\\anaconda3\\\\lib\\\\site-packages\\\\matplotlib\\\\pyplot.py'>"
      ]
     },
     "execution_count": 727,
     "metadata": {},
     "output_type": "execute_result"
    },
    {
     "data": {
      "image/png": "[encoded data removed]",
      "text/plain": [
       "<Figure size 432x288 with 1 Axes>"
      ]
     },
     "metadata": {
      "needs_background": "light"
     },
     "output_type": "display_data"
    }
   ],
   "source": [
    "import random\n",
    "import numpy as np\n",
    "from math import sqrt\n",
    "\n",
    "num_city = 100\n",
    "num_air = 3\n",
    "num_center = 5\n",
    "sigma = 0.1\n",
    "cities = set()\n",
    "airports = []\n",
    "\n",
    "for i in range(num_center):\n",
    "    x = random.random()\n",
    "    y = random.random()\n",
    "    xc = np.random.normal(x, sigma, num_city//num_center)\n",
    "    yc = np.random.normal(y, sigma, num_city//num_center)\n",
    "    cities = cities.union(zip(xc, yc))\n",
    "\n",
    "for i in range(num_air):\n",
    "    x = random.random()\n",
    "    y = random.random()\n",
    "    airports.append((x,y)) \n",
    "import matplotlib.pyplot as plt\n",
    "\n",
    "\n",
    "zip_cities = zip(*cities)\n",
    "plt.scatter(*zip_cities, marker='+',color='b', label='Cities')\n",
    "zip_airs = zip(*airports)\n",
    "plt.scatter(*zip_airs, marker='*', color='r', s=100, label='Airports')\n",
    "plt.legend()\n",
    "plt"
   ]
  },
  {
   "cell_type": "code",
   "execution_count": 728,
   "metadata": {
    "scrolled": true
   },
   "outputs": [
    {
     "data": {
      "image/png": "[encoded data removed]",
      "text/plain": [
       "<Figure size 432x288 with 1 Axes>"
      ]
     },
     "metadata": {
      "needs_background": "light"
     },
     "output_type": "display_data"
    }
   ],
   "source": [
    "\n",
    "def gradient_descent(airports, cities, iterations, alpha):\n",
    "    airport1 = list(airports)[0]\n",
    "    airport2 = list(airports)[1]\n",
    "    airport3 = list(airports)[2]\n",
    "    \n",
    "    objectives = []\n",
    "        \n",
    "    for iteration in range(iterations):\n",
    "        cities1 = []\n",
    "        cities2 = []\n",
    "        cities3 = []\n",
    "        \n",
    "        for city in cities:\n",
    "            #print(\"City: \",  city)\n",
    "            d1 = sqrt((airport1[0]-city[0])**2 + (airport1[1]-city[1])**2)\n",
    "            d2 = sqrt((airport2[0]-city[0])**2 + (airport2[1]-city[1])**2)\n",
    "            d3 = sqrt((airport3[0]-city[0])**2 + (airport3[1]-city[1])**2)\n",
    "\n",
    "            if(d1 < d2 and d1 < d3):\n",
    "                cities1.append(city)\n",
    "            if(d2 < d1 and d2 < d3):\n",
    "                cities2.append(city)\n",
    "            if(d3 < d1 and d3 < d2):\n",
    "                cities3.append(city)\n",
    "        gradient = [0,0,0,0,0,0]\n",
    "        objectiveDecent = 0\n",
    "        for city in cities1:\n",
    "            objectiveDecent += (airport1[0] - city[0])**2\n",
    "            gradient[0] += 2 * (airport1[0] - city[0])\n",
    "            \n",
    "        airport1 = ((airport1[0] - (alpha * gradient[0])), airport1[1])\n",
    "            \n",
    "        for city in cities1:\n",
    "            objectiveDecent += (airport1[1] - city[1])**2\n",
    "\n",
    "            gradient[1] += 2 * (airport1[1] - city[1])\n",
    "        airport1 = (airport1[0], (airport1[1] - (alpha * gradient[1])))\n",
    "            \n",
    "          \n",
    "        for city in cities2:\n",
    "            objectiveDecent += (airport2[0] - city[0])**2\n",
    "\n",
    "            gradient[2] += 2 * (airport2[0] - city[0])\n",
    "        airport2 = ((airport2[0] - (alpha * gradient[2])), airport2[1])\n",
    "            \n",
    "        for city in cities2:\n",
    "            objectiveDecent += (airport2[1] - city[1])**2\n",
    "\n",
    "            gradient[3] += 2 * (airport2[1] - city[1])\n",
    "        airport2 = (airport2[0], (airport2[1] - (alpha * gradient[3])))\n",
    "\n",
    "        \n",
    "        for city in cities3:\n",
    "            objectiveDecent += (airport3[0] - city[0])**2\n",
    "\n",
    "            gradient[4] += 2 * (airport3[0] - city[0])\n",
    "        airport3 = ((airport3[0] - (alpha * gradient[4])), airport3[1])\n",
    "            \n",
    "        for city in cities3:\n",
    "            objectiveDecent += (airport3[1] - city[1])**2\n",
    " \n",
    "            \n",
    "            gradient[5] += 2 * (airport3[1] - city[1])\n",
    "        airport3 = (airport3[0], (airport3[1] - (alpha * gradient[5])))\n",
    "        \n",
    "        \n",
    "        \n",
    "        \n",
    "        \n",
    "        objectives.append((iteration, objectiveDecent))  \n",
    "                           \n",
    "                           \n",
    "    zip_objectives = zip(*objectives)\n",
    "    plt.scatter(*zip_objectives, marker='.',color='b', label='Cities')\n",
    "    plt.legend()\n",
    "    plt                        \n",
    "    \n",
    "    airports = [airport1, airport2, airport3] \n",
    "\n",
    "    return airports\n",
    "    \n",
    "airports = gradient_descent(airports, cities, 40, .01)\n",
    "\n",
    "\n"
   ]
  },
  {
   "cell_type": "code",
   "execution_count": 729,
   "metadata": {},
   "outputs": [
    {
     "data": {
      "text/plain": [
       "<module 'matplotlib.pyplot' from 'C:\\\\Users\\\\Sleepless\\\\anaconda3\\\\lib\\\\site-packages\\\\matplotlib\\\\pyplot.py'>"
      ]
     },
     "execution_count": 729,
     "metadata": {},
     "output_type": "execute_result"
    },
    {
     "data": {
      "image/png": "[encoded data removed]",
      "text/plain": [
       "<Figure size 432x288 with 1 Axes>"
      ]
     },
     "metadata": {
      "needs_background": "light"
     },
     "output_type": "display_data"
    }
   ],
   "source": [
    "zip_cities = zip(*cities)\n",
    "plt.scatter(*zip_cities, marker='+',color='b', label='Cities')\n",
    "zip_airs = zip(*airports)\n",
    "plt.scatter(*zip_airs, marker='*', color='r', s=100, label='Airports')\n",
    "plt.legend()\n",
    "plt"
   ]
  },
  {
   "cell_type": "code",
   "execution_count": null,
   "metadata": {},
   "outputs": [],
   "source": []
  }
 ],
 "metadata": {
  "kernelspec": {
   "display_name": "Python 3",
   "language": "python",
   "name": "python3"
  },
  "language_info": {
   "codemirror_mode": {
    "name": "ipython",
    "version": 3
   },
   "file_extension": ".py",
   "mimetype": "text/x-python",
   "name": "python",
   "nbconvert_exporter": "python",
   "pygments_lexer": "ipython3",
   "version": "3.8.8"
  }
 },
 "nbformat": 4,
 "nbformat_minor": 2
}
